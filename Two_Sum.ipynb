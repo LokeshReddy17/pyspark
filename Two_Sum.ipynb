{
  "nbformat": 4,
  "nbformat_minor": 0,
  "metadata": {
    "colab": {
      "provenance": [],
      "authorship_tag": "ABX9TyOiwBV4qEi+zf+bJ4Pubw8J",
      "include_colab_link": true
    },
    "kernelspec": {
      "name": "python3",
      "display_name": "Python 3"
    },
    "language_info": {
      "name": "python"
    }
  },
  "cells": [
    {
      "cell_type": "markdown",
      "metadata": {
        "id": "view-in-github",
        "colab_type": "text"
      },
      "source": [
        "<a href=\"https://colab.research.google.com/github/LokeshReddy17/pyspark/blob/main/Two_Sum.ipynb\" target=\"_parent\"><img src=\"https://colab.research.google.com/assets/colab-badge.svg\" alt=\"Open In Colab\"/></a>"
      ]
    },
    {
      "cell_type": "code",
      "execution_count": 9,
      "metadata": {
        "id": "c2JzmIaPsZN6",
        "colab": {
          "base_uri": "https://localhost:8080/"
        },
        "outputId": "839602bc-22af-4833-e080-ea39357ae95d"
      },
      "outputs": [
        {
          "output_type": "execute_result",
          "data": {
            "text/plain": [
              "[1, 0]"
            ]
          },
          "metadata": {},
          "execution_count": 9
        }
      ],
      "source": [
        "from typing import List\n",
        "\n",
        "class Solution:\n",
        "  def twoSum(self,nums: List[int],target:int) -> List[int]:\n",
        "    dict={}\n",
        "    for i in range(0,len(nums)):\n",
        "      complement=target - nums[i]\n",
        "      if complement in dict:\n",
        "        return [i,dict[complement]]\n",
        "      dict[nums[i]]=i\n",
        "\n",
        "\"\"\"\n",
        "    hash_map = {}\n",
        "    for i in range(len(nums)):\n",
        "      if nums[i] in hash_map:\n",
        "        return [i, hash_map[nums[i]]]\n",
        "      else:\n",
        "        hash_map[target - nums[i]] = i\n",
        "\n",
        "\"\"\"\n",
        "\n",
        "\n",
        "s1=Solution()\n",
        "s1.twoSum([2,7,11,15],9)"
      ]
    }
  ]
}